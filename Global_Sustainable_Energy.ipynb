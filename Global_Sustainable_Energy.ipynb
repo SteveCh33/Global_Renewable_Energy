{
  "cells": [
    {
      "cell_type": "markdown",
      "metadata": {
        "id": "view-in-github",
        "colab_type": "text"
      },
      "source": [
        "<a href=\"https://colab.research.google.com/github/SteveCh33/Global_Renewable_Energy/blob/main/Global_Sustainable_Energy.ipynb\" target=\"_parent\"><img src=\"https://colab.research.google.com/assets/colab-badge.svg\" alt=\"Open In Colab\"/></a>"
      ]
    },
    {
      "cell_type": "code",
      "execution_count": 2,
      "metadata": {
        "id": "FwfPasukNsoK"
      },
      "outputs": [],
      "source": [
        "import pandas as pd\n",
        "import matplotlib.pyplot as plt\n",
        "import seaborn as sns\n",
        "import numpy as np"
      ]
    },
    {
      "cell_type": "markdown",
      "metadata": {
        "id": "zaGUrtPXN_x8"
      },
      "source": [
        "Datasets"
      ]
    },
    {
      "cell_type": "code",
      "execution_count": 3,
      "metadata": {
        "id": "x8d-JpWribqL"
      },
      "outputs": [],
      "source": [
        "energy = pd.read_csv('global-data-on-sustainable-energy.csv')\n",
        "countries = pd.read_csv('countries_regions.csv')\n",
        "emissions = pd.read_csv('FAOSTAT_data_global_emissions.csv')"
      ]
    },
    {
      "cell_type": "markdown",
      "metadata": {
        "id": "vpnxVTm5ignW"
      },
      "source": [
        "Data Cleaning & Formatting"
      ]
    },
    {
      "cell_type": "code",
      "execution_count": null,
      "metadata": {
        "id": "4oHJ5NxsPSo_"
      },
      "outputs": [],
      "source": [
        "#Formatting & Cleanup - Renewable Energy\n",
        "energy = energy.rename(columns={'Entity':'Country'})\n",
        "energy['Year'] = pd.to_datetime(energy['Year'], format='%Y')\n",
        "energy['Country'] = energy['Country'].str.strip()\n",
        "energy_select = energy[['Country', 'Year', 'Electricity from renewables (TWh)', 'Electricity from nuclear (TWh)',\n",
        "                        'Electricity from fossil fuels (TWh)', 'Renewable energy share in the total final energy consumption (%)',\n",
        "                        'Value_co2_emissions_kt_by_country']]\n",
        "energy_select.fillna(0)"
      ]
    },
    {
      "cell_type": "code",
      "execution_count": null,
      "metadata": {
        "id": "3-Boo4LiQa9s"
      },
      "outputs": [],
      "source": [
        "#Formatting - Regions\n",
        "countries['Country'] = countries['Country'].str.strip()\n",
        "countries['Region'] = countries['Region'].str.strip()\n",
        "regions = countries[['Country', 'Region']]\n",
        "\n",
        "\n",
        "#Cleaning up regions\n",
        "regions.replace({'SUB-SAHARAN AFRICA': 'AFRICA', 'NORTHERN AFRICA':'AFRICA', 'NORTHERN AMERICA':'NORTH AMERICA',\n",
        "                 'NEAR EAST':'MIDDLE EAST', 'C.W. OF IND. STATES':'EASTERN EUROPE', 'ASIA (EX. NEAR EAST)':'ASIA'}, inplace=True)\n",
        "regions['Region'] = np.where((regions['Country'] == 'Afghanistan') & (regions['Region'] == 'ASIA') |\n",
        "                             (regions['Country'] == 'Iran') & (regions['Region'] == 'ASIA') |\n",
        "                             (regions['Country'] == 'Pakistan') & (regions['Region'] == 'ASIA'),\n",
        "                             'MIDDLE EAST', regions['Region'])\n",
        "regions['Region'] = regions['Region'].astype('category')"
      ]
    },
    {
      "cell_type": "code",
      "source": [
        "#Formatting & Cleaning - Emissions\n",
        "emissions_2000 = emissions.query('Year >= 2000')\n",
        "emissions_2000"
      ],
      "metadata": {
        "id": "exySRR_a4lJx"
      },
      "execution_count": null,
      "outputs": []
    },
    {
      "cell_type": "markdown",
      "metadata": {
        "id": "tjo0yF8Mnzrs"
      },
      "source": [
        "Exploratory Analysis"
      ]
    },
    {
      "cell_type": "code",
      "execution_count": null,
      "metadata": {
        "id": "4Re6lpqQ6FqI"
      },
      "outputs": [],
      "source": [
        "energy_data = energy_select.merge(regions, on='Country')\n",
        "energy_data"
      ]
    },
    {
      "cell_type": "code",
      "execution_count": null,
      "metadata": {
        "id": "r9Zxk1KDn5Rm"
      },
      "outputs": [],
      "source": [
        "sns.relplot(x='Year', y='Electricity from renewables (TWh)',\n",
        "            data=energy_data,\n",
        "            kind='line',\n",
        "            hue='Region',\n",
        "            errorbar=None)\n",
        "plt.show()"
      ]
    },
    {
      "cell_type": "code",
      "execution_count": null,
      "metadata": {
        "id": "1_NkrLHWucVs"
      },
      "outputs": [],
      "source": [
        "energy_data_na = energy_data[energy_data['Region'] == 'NORTH AMERICA']\n",
        "energy_data_weu = energy_data[energy_data['Region'] == 'WESTERN EUROPE']\n",
        "energy_data_weu"
      ]
    }
  ],
  "metadata": {
    "colab": {
      "provenance": [],
      "include_colab_link": true
    },
    "kernelspec": {
      "display_name": "Python 3",
      "name": "python3"
    },
    "language_info": {
      "name": "python"
    }
  },
  "nbformat": 4,
  "nbformat_minor": 0
}