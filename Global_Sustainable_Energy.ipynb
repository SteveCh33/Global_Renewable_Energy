{
  "nbformat": 4,
  "nbformat_minor": 0,
  "metadata": {
    "colab": {
      "provenance": [],
      "authorship_tag": "ABX9TyMZEBC1EKbG9Mfp0uL7rj9W",
      "include_colab_link": true
    },
    "kernelspec": {
      "name": "python3",
      "display_name": "Python 3"
    },
    "language_info": {
      "name": "python"
    }
  },
  "cells": [
    {
      "cell_type": "markdown",
      "metadata": {
        "id": "view-in-github",
        "colab_type": "text"
      },
      "source": [
        "<a href=\"https://colab.research.google.com/github/SteveCh33/Global_Renewable_Energy/blob/main/Global_Sustainable_Energy.ipynb\" target=\"_parent\"><img src=\"https://colab.research.google.com/assets/colab-badge.svg\" alt=\"Open In Colab\"/></a>"
      ]
    },
    {
      "cell_type": "code",
      "execution_count": 4,
      "metadata": {
        "id": "FwfPasukNsoK"
      },
      "outputs": [],
      "source": [
        "import pandas as pd\n",
        "import matplotlib.pyplot as plt\n",
        "import seaborn as sns\n",
        "import numpy as np"
      ]
    },
    {
      "cell_type": "markdown",
      "source": [
        "Datasets"
      ],
      "metadata": {
        "id": "zaGUrtPXN_x8"
      }
    },
    {
      "cell_type": "code",
      "source": [
        "energy = pd.read_csv('global-data-on-sustainable-energy.csv')\n",
        "countries = pd.read_csv('countries_regions.csv')"
      ],
      "metadata": {
        "id": "x8d-JpWribqL"
      },
      "execution_count": 38,
      "outputs": []
    },
    {
      "cell_type": "markdown",
      "source": [
        "Data Cleaning & Formatting"
      ],
      "metadata": {
        "id": "vpnxVTm5ignW"
      }
    },
    {
      "cell_type": "code",
      "source": [
        "#Formatting & Cleanup\n",
        "energy = energy.rename(columns={'Entity':'Country'})\n",
        "energy['Year'] = pd.to_datetime(energy['Year'], format='%Y')\n",
        "energy['Country'] = energy['Country'].str.strip()\n",
        "energy_select = energy[['Country', 'Year', 'Electricity from renewables (TWh)', 'Electricity from nuclear (TWh)',\n",
        "                        'Electricity from fossil fuels (TWh)', 'Renewable energy share in the total final energy consumption (%)',\n",
        "                        'Value_co2_emissions_kt_by_country']]\n",
        "energy_select.fillna(0)"
      ],
      "metadata": {
        "id": "4oHJ5NxsPSo_"
      },
      "execution_count": null,
      "outputs": []
    },
    {
      "cell_type": "code",
      "source": [
        "#Formatting\n",
        "countries['Country'] = countries['Country'].str.strip()\n",
        "countries['Region'] = countries['Region'].str.strip()\n",
        "regions = countries[['Country', 'Region']]\n",
        "\n",
        "\n",
        "#Cleaning up regions\n",
        "regions.replace({'SUB-SAHARAN AFRICA': 'AFRICA', 'NORTHERN AFRICA':'AFRICA', 'NORTHERN AMERICA':'NORTH AMERICA',\n",
        "                 'NEAR EAST':'MIDDLE EAST', 'C.W. OF IND. STATES':'EASTERN EUROPE', 'ASIA (EX. NEAR EAST)':'ASIA'}, inplace=True)\n",
        "regions['Region'] = np.where((regions['Country'] == 'Afghanistan') & (regions['Region'] == 'ASIA') |\n",
        "                             (regions['Country'] == 'Iran') & (regions['Region'] == 'ASIA') |\n",
        "                             (regions['Country'] == 'Pakistan') & (regions['Region'] == 'ASIA'),\n",
        "                             'MIDDLE EAST', regions['Region'])\n",
        "regions['Region'] = regions['Region'].astype('category')"
      ],
      "metadata": {
        "id": "3-Boo4LiQa9s"
      },
      "execution_count": null,
      "outputs": []
    },
    {
      "cell_type": "markdown",
      "source": [
        "Exploratory Analysis"
      ],
      "metadata": {
        "id": "tjo0yF8Mnzrs"
      }
    },
    {
      "cell_type": "code",
      "source": [
        "energy_data = energy_select.merge(regions, on='Country')\n",
        "energy_data"
      ],
      "metadata": {
        "id": "4Re6lpqQ6FqI"
      },
      "execution_count": null,
      "outputs": []
    },
    {
      "cell_type": "code",
      "source": [
        "sns.relplot(x='Year', y='Electricity from renewables (TWh)',\n",
        "            data=energy_data,\n",
        "            kind='line',\n",
        "            hue='Region',\n",
        "            errorbar=None)\n",
        "plt.show()"
      ],
      "metadata": {
        "id": "r9Zxk1KDn5Rm"
      },
      "execution_count": null,
      "outputs": []
    },
    {
      "cell_type": "code",
      "source": [
        "energy_data_na = energy_data[energy_data['Region'] == 'NORTH AMERICA']\n",
        "energy_data_na"
      ],
      "metadata": {
        "id": "1_NkrLHWucVs"
      },
      "execution_count": null,
      "outputs": []
    },
    {
      "cell_type": "code",
      "source": [
        "sns.lineplot(x='Year', y='Value_co2_emissions_kt_by_country',\n",
        "             data=energy_data,\n",
        "             hue=energy_data['Region'] == 'NORTH AMERICA',\n",
        "             errorbar=None)"
      ],
      "metadata": {
        "id": "c58SJRfU_sIC"
      },
      "execution_count": null,
      "outputs": []
    }
  ]
}