{
  "cells": [
    {
      "cell_type": "code",
      "execution_count": 80,
      "metadata": {
        "id": "FwfPasukNsoK"
      },
      "outputs": [],
      "source": [
        "import pandas as pd\n",
        "import matplotlib.pyplot as plt\n",
        "import seaborn as sns\n",
        "import numpy as np"
      ]
    },
    {
      "cell_type": "markdown",
      "metadata": {
        "id": "zaGUrtPXN_x8"
      },
      "source": [
        "Datasets"
      ]
    },
    {
      "cell_type": "code",
      "execution_count": 23,
      "metadata": {
        "id": "x8d-JpWribqL"
      },
      "outputs": [],
      "source": [
        "energy = pd.read_csv('global-data-on-sustainable-energy.csv')\n",
        "countries = pd.read_csv('countries_regions.csv')\n",
        "emissions = pd.read_csv('FAOSTAT_data_global_emissions.csv')"
      ]
    },
    {
      "cell_type": "markdown",
      "metadata": {
        "id": "vpnxVTm5ignW"
      },
      "source": [
        "Data Cleaning & Formatting"
      ]
    },
    {
      "cell_type": "code",
      "execution_count": 6,
      "metadata": {
        "id": "4oHJ5NxsPSo_"
      },
      "outputs": [],
      "source": [
        "#Formatting & Cleanup - Renewable Energy\n",
        "energy = energy.rename(columns={'Entity':'Country'})\n",
        "energy['Year'] = pd.to_datetime(energy['Year'], format='%Y')\n",
        "energy['Country'] = energy['Country'].str.strip()\n",
        "energy_select = energy[['Country', 'Year', 'Electricity from renewables (TWh)', 'Electricity from nuclear (TWh)',\n",
        "                        'Electricity from fossil fuels (TWh)', 'Renewable energy share in the total final energy consumption (%)',\n",
        "                        'Value_co2_emissions_kt_by_country']].fillna(0)"
      ]
    },
    {
      "cell_type": "code",
      "execution_count": null,
      "metadata": {
        "id": "3-Boo4LiQa9s"
      },
      "outputs": [],
      "source": [
        "#Formatting - Regions\n",
        "countries['Country'] = countries['Country'].str.strip()\n",
        "countries['Region'] = countries['Region'].str.strip()\n",
        "regions = countries[['Country', 'Region']]\n",
        "\n",
        "\n",
        "#Cleaning up regions\n",
        "regions.replace({'SUB-SAHARAN AFRICA': 'AFRICA', 'NORTHERN AFRICA':'AFRICA', 'NORTHERN AMERICA':'NORTH AMERICA',\n",
        "                 'NEAR EAST':'MIDDLE EAST', 'C.W. OF IND. STATES':'EASTERN EUROPE', 'ASIA (EX. NEAR EAST)':'ASIA'}, inplace=True)\n",
        "regions['Region'] = np.where((regions['Country'] == 'Afghanistan') & (regions['Region'] == 'ASIA') |\n",
        "                             (regions['Country'] == 'Iran') & (regions['Region'] == 'ASIA') |\n",
        "                             (regions['Country'] == 'Pakistan') & (regions['Region'] == 'ASIA'),\n",
        "                             'MIDDLE EAST', regions['Region'])\n",
        "regions['Region'] = regions['Region'].astype('category')"
      ]
    },
    {
      "cell_type": "code",
      "source": [
        "#Formatting & Cleaning - Emissions\n",
        "emissions_2000 = emissions.query('Year >= 2000')\n",
        "emissions_select = emissions_2000[['Area', 'Element', 'Item', 'Year', 'Value']]\n",
        "emissions_select = emissions_select.rename(columns={'Value':'CO2_emissions'})"
      ],
      "metadata": {
        "id": "exySRR_a4lJx"
      },
      "execution_count": 24,
      "outputs": []
    },
    {
      "cell_type": "markdown",
      "metadata": {
        "id": "tjo0yF8Mnzrs"
      },
      "source": [
        "Exploratory Analysis"
      ]
    },
    {
      "cell_type": "code",
      "execution_count": 25,
      "metadata": {
        "id": "4Re6lpqQ6FqI"
      },
      "outputs": [],
      "source": [
        "#Mergers\n",
        "energy_data = energy_select.merge(regions, on='Country')\n",
        "emissions_data = emissions_select.merge(regions, left_on='Area', right_on='Country').drop(columns='Area')"
      ]
    },
    {
      "cell_type": "markdown",
      "source": [
        "Subsets"
      ],
      "metadata": {
        "id": "oAyW6Pi4c7bi"
      }
    },
    {
      "cell_type": "code",
      "execution_count": 26,
      "metadata": {
        "id": "1_NkrLHWucVs"
      },
      "outputs": [],
      "source": [
        "energy_data_na = energy_data[energy_data['Region'] == 'NORTH AMERICA']\n",
        "energy_data_weu = energy_data[energy_data['Region'] == 'WESTERN EUROPE']\n",
        "emissions_data_asia = emissions_data[emissions_data['Region'] == 'ASIA']"
      ]
    },
    {
      "cell_type": "code",
      "source": [
        "brics_list = ['Brazil', 'Russia', 'India', 'China', 'South Africa']\n",
        "emissions_data_brics = emissions_data[emissions_data['Country'].isin(brics_list)]"
      ],
      "metadata": {
        "id": "HDHPCDEAzixH"
      },
      "execution_count": 48,
      "outputs": []
    },
    {
      "cell_type": "markdown",
      "source": [
        "Visualizations"
      ],
      "metadata": {
        "id": "wROKQDnZZCa1"
      }
    },
    {
      "cell_type": "code",
      "source": [
        "#BRICS countries total emissions over 20 years\n",
        "emissions_data_brics_total = emissions_data_brics.groupby(by='Country')['CO2_emissions'].agg('sum').plot.bar()"
      ],
      "metadata": {
        "id": "wc9e1ztGQ0xH"
      },
      "execution_count": null,
      "outputs": []
    },
    {
      "cell_type": "code",
      "source": [
        "#Top 10 emission producing countries\n",
        "world_emissions_t10 = emissions_data.groupby('Country', sort=True)['CO2_emissions'].sum().reset_index().sort_values(by='CO2_emissions', ascending=False).head(10)\n",
        "\n",
        "fig = plt.gcf()\n",
        "fig.set_size_inches(12, 8)\n",
        "\n",
        "sns.barplot(x='Country', y='CO2_emissions',\n",
        "            data=world_emissions_t10)"
      ],
      "metadata": {
        "id": "SYEnXTOKfbob"
      },
      "execution_count": null,
      "outputs": []
    },
    {
      "cell_type": "code",
      "source": [
        "#Top 10 emission producing countries pver 20 years\n",
        "emissions_t10_list = print(world_emissions_t10['Country'].to_list())\n"
      ],
      "metadata": {
        "colab": {
          "base_uri": "https://localhost:8080/"
        },
        "id": "NMDduGtMzy--",
        "outputId": "12ac97ae-6ff7-40cb-f0bd-3eaf55cb4aa1"
      },
      "execution_count": 89,
      "outputs": [
        {
          "output_type": "stream",
          "name": "stdout",
          "text": [
            "['China', 'India', 'Japan', 'Brazil', 'Indonesia', 'Germany', 'Canada', 'Saudi Arabia', 'South Africa', 'Mexico']\n"
          ]
        }
      ]
    }
  ],
  "metadata": {
    "colab": {
      "provenance": []
    },
    "kernelspec": {
      "display_name": "Python 3",
      "name": "python3"
    },
    "language_info": {
      "name": "python"
    }
  },
  "nbformat": 4,
  "nbformat_minor": 0
}