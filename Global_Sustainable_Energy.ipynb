{
  "cells": [
    {
      "cell_type": "code",
      "execution_count": 2,
      "metadata": {
        "id": "FwfPasukNsoK"
      },
      "outputs": [],
      "source": [
        "import pandas as pd\n",
        "import matplotlib.pyplot as plt\n",
        "import seaborn as sns\n",
        "import numpy as np\n",
        "\n",
        "pd.set_option('display.max_columns', 500)\n",
        "pd.set_option('display.max_rows', 1000)"
      ]
    },
    {
      "cell_type": "markdown",
      "metadata": {
        "id": "zaGUrtPXN_x8"
      },
      "source": [
        "Datasets"
      ]
    },
    {
      "cell_type": "code",
      "execution_count": 9,
      "metadata": {
        "id": "x8d-JpWribqL"
      },
      "outputs": [],
      "source": [
        "energy = pd.read_csv('owid-energy-data.csv')\n",
        "countries = pd.read_csv('countries_regions.csv')\n",
        "emissions = pd.read_csv('owid-co2-data.csv')"
      ]
    },
    {
      "cell_type": "markdown",
      "metadata": {
        "id": "vpnxVTm5ignW"
      },
      "source": [
        "Data Cleaning & Formatting"
      ]
    },
    {
      "cell_type": "code",
      "execution_count": null,
      "metadata": {
        "id": "3-Boo4LiQa9s"
      },
      "outputs": [],
      "source": [
        "#Formatting & Cleaning - Regions\n",
        "countries['Country'] = countries['Country'].str.strip()\n",
        "countries['Region'] = countries['Region'].str.strip()\n",
        "regions = countries[['Country', 'Region']]\n",
        "\n",
        "regions.replace({'SUB-SAHARAN AFRICA': 'AFRICA', 'NORTHERN AFRICA':'AFRICA', 'NORTHERN AMERICA':'NORTH AMERICA',\n",
        "                 'NEAR EAST':'MIDDLE EAST', 'C.W. OF IND. STATES':'EASTERN EUROPE', 'ASIA (EX. NEAR EAST)':'ASIA'}, inplace=True)\n",
        "regions['Region'] = np.where((regions['Country'] == 'Afghanistan') & (regions['Region'] == 'ASIA') |\n",
        "                             (regions['Country'] == 'Iran') & (regions['Region'] == 'ASIA') |\n",
        "                             (regions['Country'] == 'Pakistan') & (regions['Region'] == 'ASIA'),\n",
        "                             'MIDDLE EAST', regions['Region'])\n",
        "regions['Region'] = regions['Region'].astype('category')"
      ]
    },
    {
      "cell_type": "code",
      "execution_count": 11,
      "metadata": {
        "id": "4oHJ5NxsPSo_"
      },
      "outputs": [],
      "source": [
        "#Formatting & Cleaning - Energy Production\n",
        "energy['country'] = energy['country'].str.strip()\n",
        "energy['year'] = pd.to_datetime(energy['year'], format = '%Y')\n",
        "energy = energy.query('year >= 2000')\n",
        "energy_select = energy[['country', 'year', 'population', 'greenhouse_gas_emissions', 'coal_production', 'gas_production','oil_production']]\n",
        "energy_data = energy_select.merge(regions, left_on='country', right_on='Country').drop(columns='Country').fillna(0)\n",
        "\n",
        "renew_energy_select = energy[['country', 'year', 'solar_electricity', 'wind_electricity','hydro_electricity','other_renewable_electricity','renewables_electricity']]\n",
        "renew_energy_select = renew_energy_select.query('year >= 2000')\n",
        "renew_energy_data = renew_energy_select.merge(regions, left_on='country', right_on='Country').drop(columns='Country').fillna(0)"
      ]
    },
    {
      "cell_type": "code",
      "source": [
        "#Formatting & Cleaning - Emissions\n",
        "emissions['country'] = emissions['country'].str.strip()\n",
        "emissions['year'] = pd.to_datetime(emissions['year'], format = '%Y')\n",
        "emissions = emissions.query('year >= 2000')\n",
        "emissions_select = emissions[['country', 'year', 'co2', 'coal_co2', 'gas_co2', 'oil_co2']]\n",
        "emissions_data = emissions_select.merge(regions, left_on='country', right_on='Country').drop(columns=['Country', 'Region']).fillna(0)"
      ],
      "metadata": {
        "id": "exySRR_a4lJx"
      },
      "execution_count": 7,
      "outputs": []
    },
    {
      "cell_type": "code",
      "execution_count": null,
      "metadata": {
        "id": "4Re6lpqQ6FqI"
      },
      "outputs": [],
      "source": [
        "#Merger\n",
        "world_data_merge = energy_data.merge(emissions_data, on=['country', 'year']).fillna(0)\n",
        "world_data = world_data_merge.merge(renew_energy_data, on=['country', 'year']).drop(columns=['Region_x', 'Region_y']).fillna(0)\n",
        "world_data"
      ]
    },
    {
      "cell_type": "markdown",
      "metadata": {
        "id": "tjo0yF8Mnzrs"
      },
      "source": [
        "Exploratory Analysis"
      ]
    },
    {
      "cell_type": "code",
      "source": [
        "world_data.corr()['co2']"
      ],
      "metadata": {
        "id": "bMy_C4XkW9cA"
      },
      "execution_count": null,
      "outputs": []
    },
    {
      "cell_type": "code",
      "source": [
        "fig = plt.gcf()\n",
        "fig.set_size_inches(12, 8)\n",
        "\n",
        "sns.relplot(x='population', y='co2',\n",
        "           data=world_data,\n",
        "           kind='scatter',\n",
        "            hue='Region')\n",
        "plt.show()"
      ],
      "metadata": {
        "id": "YLT22fyefTnk"
      },
      "execution_count": null,
      "outputs": []
    },
    {
      "cell_type": "markdown",
      "source": [
        "Visualizations"
      ],
      "metadata": {
        "id": "wROKQDnZZCa1"
      }
    },
    {
      "cell_type": "code",
      "source": [
        "#BRICS countries total emissions over 20 years\n",
        "emissions_data_brics_total = emissions_data_brics.groupby(by='Country')['CO2_emissions'].agg('sum').plot.bar()"
      ],
      "metadata": {
        "id": "wc9e1ztGQ0xH"
      },
      "execution_count": null,
      "outputs": []
    },
    {
      "cell_type": "code",
      "source": [
        "#Top 10 emission producing countries\n",
        "world_emissions_t10 = emissions_data.groupby('Country', sort=True)['CO2_emissions'].sum().reset_index().sort_values(by='CO2_emissions', ascending=False).head(10)\n",
        "\n",
        "fig = plt.gcf()\n",
        "fig.set_size_inches(12, 8)\n",
        "\n",
        "sns.barplot(x='Country', y='CO2_emissions',\n",
        "            data=world_emissions_t10)"
      ],
      "metadata": {
        "id": "SYEnXTOKfbob"
      },
      "execution_count": null,
      "outputs": []
    },
    {
      "cell_type": "code",
      "source": [
        "energy_data_t10 = energy_data.groupby('Country')['Value_co2_emissions_kt_by_country'].sum().reset_index().sort_values(by='Value_co2_emissions_kt_by_country', ascending=False).head(10)\n",
        "\n",
        "fig = plt.gcf()\n",
        "fig.set_size_inches(12, 8)\n",
        "\n",
        "sns.barplot(x='Country', y='Value_co2_emissions_kt_by_country',\n",
        "            data=energy_data_t10)\n",
        "plt.show()"
      ],
      "metadata": {
        "id": "g3gD22_3FHbX"
      },
      "execution_count": null,
      "outputs": []
    },
    {
      "cell_type": "code",
      "source": [
        "#Top 10 emission producing countries pver 20 years\n",
        "emissions_t10_list = print(world_emissions_t10['Country'].to_list())\n"
      ],
      "metadata": {
        "colab": {
          "base_uri": "https://localhost:8080/"
        },
        "id": "NMDduGtMzy--",
        "outputId": "12ac97ae-6ff7-40cb-f0bd-3eaf55cb4aa1"
      },
      "execution_count": null,
      "outputs": [
        {
          "output_type": "stream",
          "name": "stdout",
          "text": [
            "['China', 'India', 'Japan', 'Brazil', 'Indonesia', 'Germany', 'Canada', 'Saudi Arabia', 'South Africa', 'Mexico']\n"
          ]
        }
      ]
    }
  ],
  "metadata": {
    "colab": {
      "provenance": []
    },
    "kernelspec": {
      "display_name": "Python 3",
      "name": "python3"
    },
    "language_info": {
      "name": "python"
    }
  },
  "nbformat": 4,
  "nbformat_minor": 0
}